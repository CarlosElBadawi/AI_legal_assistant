{
 "cells": [
  {
   "cell_type": "markdown",
   "id": "05bd24ec",
   "metadata": {},
   "source": [
    "# Step 1: Load and Chunk Documents"
   ]
  },
  {
   "cell_type": "code",
   "execution_count": 57,
   "id": "47cab792",
   "metadata": {},
   "outputs": [],
   "source": [
    "import os\n",
    "from dotenv import load_dotenv\n",
    "\n",
    "load_dotenv()\n",
    "GOOGLE_API_KEY = os.getenv(\"GOOGLE_API_KEY\")\n",
    "\n",
    "if not GOOGLE_API_KEY:\n",
    "    raise ValueError(\"GOOGLE_API_KEY not found in environment variables.\")"
   ]
  },
  {
   "cell_type": "code",
   "execution_count": 58,
   "id": "5bc0ed3a",
   "metadata": {},
   "outputs": [
    {
     "data": {
      "text/plain": [
       "'# Internal Deployment Standards and DevOps Practices\\n\\n## 1. Introduction\\n\\nThis document outlines the deployment and infrastructure practices followed by the engineering team at ACME Corp. The goal is to ensure reliable, repeatable, and secure deployments across environments.\\n\\n## 2. Environments\\n\\nWe use three main environments:\\n- **Development**: For local dev and testing\\n- **Staging**: Mirrors production, runs CI smoke tests\\n- **Production**: Customer-facing environment, under strict change control\\n\\n## 3. CI/CD Pipeline\\n\\nAll services are deployed using GitHub Actions and ArgoCD. The typical pipeline includes:\\n1. Lint and format check (pre-commit)\\n2. Unit tests with coverage threshold (80% minimum)\\n3. Docker build and push to internal registry\\n4. Helm chart update and deployment via ArgoCD\\n\\nChanges to `main` auto-deploy to staging.\\nProduction deploys require an approved GitHub PR with `#deploy-production` tag and a passing security scan.\\n\\n## 4. Secrets and Configuration\\n\\nSecrets are managed using **HashiCorp Vault** and injected into Kubernetes via **sealed secrets**.\\n- Do not commit secrets to Git\\n- Use environment-specific values.yaml files\\n- Use `vault kv get` for local testing\\n\\nDevelopers can request temporary access tokens via the internal DevOps CLI.\\n\\n## 5. Monitoring and Logging\\n\\nEvery service must:\\n- Expose `/metrics` endpoint (Prometheus format)\\n- Include OpenTelemetry tracing\\n- Send logs to Loki, viewable via Grafana\\n\\nAlerts are defined in Prometheus and routed via Alertmanager to the on-call Slack channel.\\n\\n## 6. Infrastructure as Code\\n\\nAll infrastructure is managed via Terraform and follows the “one repo per environment” model.\\n- PRs to infra repos require 2 approvals\\n- Terraform state is stored in S3 + DynamoDB locking\\n- `terraform apply` is only permitted via CI runners, not locally\\n\\nModules are versioned and reviewed bi-weekly.\\n\\n## 7. Incident Response\\n\\nIn case of a production incident:\\n1. Escalate via PagerDuty\\n2. Log issue in the #incident-response Slack channel\\n3. Start incident doc from the template in Confluence\\n4. Run `postmortem-generator` CLI after resolution\\n\\nThe incident coordinator is responsible for RCA, timeline, and blameless retrospective.\\n\\n## 8. Developer Onboarding\\n\\nNew engineers should:\\n- Clone the `acme-devbox` repo\\n- Run `devbox up` to set up a local environment\\n- Read through `docs/contributing.md` for workflow and commit standards\\n\\nAll onboarding sessions are recorded and accessible via the internal Notion.\\n\\n## 9. Security Practices\\n\\nAll services must:\\n- Use image scanning via Trivy\\n- Run static analysis with SonarQube\\n- Follow the OWASP Top 10 checklist\\n- Use least-privilege IAM roles\\n\\nSecurity reviews are mandatory for:\\n- Public APIs\\n- Data access logic\\n- Third-party integrations\\n\\n## 10. Summary\\n\\nThese practices are designed to standardize deployment, minimize downtime, and improve security. Every engineer is responsible for following them and proposing improvements.\\n'"
      ]
     },
     "execution_count": 58,
     "metadata": {},
     "output_type": "execute_result"
    }
   ],
   "source": [
    "from langchain.document_loaders import TextLoader\n",
    "\n",
    "loader = TextLoader(\"docs/internal_manual.txt\")\n",
    "docs = TextLoader(\"docs/internal_manual.txt\", encoding=\"utf-8\").load()\n",
    "\n",
    "docs[0].page_content"
   ]
  },
  {
   "cell_type": "code",
   "execution_count": 59,
   "id": "0f8db227",
   "metadata": {},
   "outputs": [
    {
     "name": "stdout",
     "output_type": "stream",
     "text": [
      "[Document(metadata={'producer': 'Microsoft® Word for Microsoft 365', 'creator': 'Microsoft® Word for Microsoft 365', 'creationdate': '2025-08-15T18:16:29+03:00', 'author': 'carlos el badawi', 'moddate': '2025-08-15T18:16:29+03:00', 'source': 'US_Employment_Contract_Template.pdf', 'total_pages': 12, 'page': 0, 'page_label': '1'}, page_content='US Employment Contract Template \\n \\n \\nHow to use this template \\nThis is a customizable document created to help companies solidify the terms and conditions of \\nemployment between employee and employer by defining the responsibilities and obligations of \\nthe working relationship. \\n \\nThis template is tailored to US employment standards, including all necessary elements such as \\nemployer and employee details, job description, salary, working hours, holiday entitlement, and \\nmore to ensure compliance with local employment laws. \\n \\nDisclaimer: The content in this document is provided for general information purposes only and does not \\nconstitute legal advice. Consult with legal counsel and check compliance with local labor laws before \\nsharing the agreement with your contractor.'), Document(metadata={'producer': 'Microsoft® Word for Microsoft 365', 'creator': 'Microsoft® Word for Microsoft 365', 'creationdate': '2025-08-15T18:16:29+03:00', 'author': 'carlos el badawi', 'moddate': '2025-08-15T18:16:29+03:00', 'source': 'US_Employment_Contract_Template.pdf', 'total_pages': 12, 'page': 1, 'page_label': '2'}, page_content='US Employment Agreement \\nTemplate \\n \\n  \\n 2 \\nTHIS AGREEMENT made BETWEEN: \\n \\n[INSERT EMPLOYER NAME]   (the \"Employer\" or the “ Company”), a corporation registered under \\nthe law of the United State of America. \\n \\nAnd \\n \\n[INSERT EMPLOYEE NAME] (the \"Employee\")  \\n \\nWHEREAS: \\n1. The Employer and the Employee are desirous of entering into an employment relationship \\nfor their mutual benefit; \\n2. The Employer and the Employee wish to clarify certain obligations and rights in respect of \\nsaid employment relationship; \\nIN CONSIDERATION of the above, and in further consideration of the mutual promises and \\ncovenants set forth, this Employment Agreement (the \" Agreement\") witnesses that the parties \\nagree as follows: \\n \\n \\nEMPLOYMENT AGREEMENT MINIMUM TERMS AND CONDITIONS (the “Table”)  \\n \\n1- Start date: [DATE] \\n \\n2- Contract term: \\n [INDEFINITE OR The contract will end on [DATE] unless renewed in writing by the \\nparties.] \\n \\n3- Job Role: [TITLE] \\n \\n4- Job Description: [DUTIES] \\n \\n5- Manager: The Employee will report to the manager appointed from time to time by the \\nEmployer OR [name of Manager] \\n \\n6- Place of work: Remote. \\n \\n7- Employment type: [Salary OR Hourly] \\n \\n8- Organization of the working time: \\n Full-time employment \\n \\n9- Holidays / Leaves:  [INSERT NUMBER OF DAYS]  days of Paid Time Off per year (“PTO”). The \\nEmployee may use the PTO for vacation, personal time, or sick leave.  \\n \\n10- Public holidays (COMPLETELY OPTIONAL):  The Company observes the following paid \\nholidays in addition to PTOs: [ New Year’s Day, Memorial Day, Independence Day, Labor Day, \\nThanksgiving Day, Christmas Day, Martin Luther King Jr. Day, Veterans Day and President’s \\nDay]. If any holiday occurs on a Saturday or Sunday, the preceding Friday or following Monday \\n(subject to the Company’s discretion) will be a paid Company holiday.  \\n \\n11- Rate of Pay: [INSERT HOURLY RATE OF PAY OR SALARY] \\n \\n12- Bonus: (OPTIONAL)'), Document(metadata={'producer': 'Microsoft® Word for Microsoft 365', 'creator': 'Microsoft® Word for Microsoft 365', 'creationdate': '2025-08-15T18:16:29+03:00', 'author': 'carlos el badawi', 'moddate': '2025-08-15T18:16:29+03:00', 'source': 'US_Employment_Contract_Template.pdf', 'total_pages': 12, 'page': 2, 'page_label': '3'}, page_content=\"US Employment Agreement \\nTemplate \\n \\n  \\n 3 \\n At the sole discretion of the Company, Employee may be entitled to a discretionary bonus \\ndepending on his/her performance and the performance of the company.  \\n \\n13- Additional Benefits (OPTIONAL) \\n \\n14- Payment terms/ Currency: Twice monthly to the Employee's bank account in accordance with \\nthe normal routines of the Company. \\n \\n15- Expenses reimbursement: Reasonable and necessary,  pre-authorized expenses and upon \\nreceipts. \\n \\n16- Work equipment: The Employee may be provided with the work equipment the Employee \\nmay need to perform his duties under this Agreement. \\n \\n \\nDETAILED TERMS AND CONDITIONS OF THE EMPLOYMENT  \\n \\n \\n1- START DATE AND NATURE OF RELATIONSHIP  \\n1.1 Subject to the Employee's acceptance of this offer and compliance with its provisions, the \\nEmployee's employment with the Company will begin on the date set out in Point 1 of the Table.  \\n \\n1.2 The Employee's employment will, at all times, remain “at will” employment. As such, either the \\nEmployee or the Company may terminate the Employee's employment at any time for any reason \\nor for no reason. No provision of this Agreement, and no actions b y either the Employee or the \\nCompany, shall be construed to create a promise of employment for any specific period of time.  \\n \\n \\n2- CONTRACT TERM \\n2.1 The contract term is set out in Point 2 of the Table. \\n \\n \\n3- JOB ROLE  \\n3.1 The Employee shall report to and work under the supervision of the manager mentioned in Point \\n5 of the Table.  \\n \\n3.2 The Employee's work responsibilities and duties shall be as described in Point 4 of the Table, \\nor as may from time to time be prescribed by the Employee's supervisor and/or the Company. The \\nCompany may modify the Employee's duties from time to time in accordance with the Company’s \\nrequirements. The Employee is required to abide by all  of the policies and procedures as set forth \\nby the Company ( “Company Policies” ). Moreover, during the Employee's employment with the \\nCompany, the Employee will be expected to conduct the Employee's business activities at all times \\nin accordance with the highest legal, ethical and professional standards.  \\n \\n3.3 The Employee will perform the work in and from the United States. The Employee is not allowed \\nto work outside of the United States without the Employer's prior written permission.  \\n \\n \\n4- ORGANISATION OF THE WORKING TIME AND SCOPE OF EMPLOYMENT  \\n4.1 The type of employment is specified in Point 8 of the Table.\"), Document(metadata={'producer': 'Microsoft® Word for Microsoft 365', 'creator': 'Microsoft® Word for Microsoft 365', 'creationdate': '2025-08-15T18:16:29+03:00', 'author': 'carlos el badawi', 'moddate': '2025-08-15T18:16:29+03:00', 'source': 'US_Employment_Contract_Template.pdf', 'total_pages': 12, 'page': 3, 'page_label': '4'}, page_content=\"US Employment Agreement \\nTemplate \\n \\n  \\n 4 \\n4.2 The Employee employed full -time shall devote his/her best professional efforts, skills and \\nenergies and his/her full business time and attention to the performance of his/her duties and \\nresponsibilities under this Agreement. \\n \\n4.3 The Employee hereby confirms, as a condition to accepting and entering into this Agreement, \\nthat he/she is under no contractual or other legal obligations that would prohibit or restrict him/her \\nfrom fully entering into this Agreement, performing his/her obligations hereunder, including, without \\nlimitation, complying with all terms of this Agreement, and that the Employee has no current or \\npotential conflict of interest relating to his/her employment with the Company and performance of \\nhis/her duties hereunder. \\n \\n \\n5- RATE OF PAY \\n5.1 The Employee's rate of pay is laid out in Point 11 of the Table. As set out in Point 14 of the Table, \\nthe Employee’s rate of pay shall be payable in accordance with the Company’s regular payroll \\npractices in effect from time to time. The Company shall make any withholdings which may be \\nrequired by law or which the Employee may authorize from  time to time. The Company reserves \\nthe right to review the rate of pay and to adjust it from time to time in its sole discretion.  \\n \\n5.2 As set out in  Point 15 of the Table, the Employee shall be entitled to reimbursement from the \\nCompany in respect to such expenses submitted and approved in advance by the Company in such \\nmanner as notified to the Employee by the Company from time to time.  \\n \\n5.3. Bonus: At the Company’s sole discretion, the Employee may receive from time to time a variable \\ncompensation, the details of which may be provided directly to the Employee separately from time \\nto time. \\n \\n \\n6- BENEFITS  \\n6.1 During the Employee's employment, the Employee will be eligible to participate in the \\nCompany’s employee benefit plans. These benefits shall be made generally available by the \\nCompany from time to time to its similarly situated employees, subject to plan terms and generally \\napplicable Company policies, including, without limitation. \\n \\n6.2 The Company may also provide additional benefits specifically set out in Point 13 of the Table. \\n \\n6.3 These benefits may be modified or changed from time to time in the sole discretion of the \\nCompany, and the provisions of such benefits to the Employee in no way changes or impacts the \\nEmployee's status as an at-will employee. \\n \\n \\n7- HOLIDAYS \\n7.1 The Employee shall be entitled to the number of days of Paid Time Off (“PTO”) per year set forth \\nin Point 9 of the Table.  \\n \\n7.2 The Company’s policy is that except as otherwise required by applicable law, employees are \\nnot paid out for accrued, unused Paid Time Off and Paid Time Off and does not roll over from year \\nto year. \\n \\n \\n8- EFFECT OF TERMINATION \\n8.1 If the Employee ceases to be an employee of the Company, for any reason, the Employee shall \\nact as follows:\"), Document(metadata={'producer': 'Microsoft® Word for Microsoft 365', 'creator': 'Microsoft® Word for Microsoft 365', 'creationdate': '2025-08-15T18:16:29+03:00', 'author': 'carlos el badawi', 'moddate': '2025-08-15T18:16:29+03:00', 'source': 'US_Employment_Contract_Template.pdf', 'total_pages': 12, 'page': 4, 'page_label': '5'}, page_content=\"US Employment Agreement \\nTemplate \\n \\n  \\n 5 \\n \\n(i) deliver and/or return to the Company all property of the Company in the Employee's possession \\nor control including, without limitation, cellular telephones, other telecommunications material, \\nkeys, modems, computers, identification badges or other equi pment, company documents, CDs, \\nletters, notes, reports, business cards and other papers and electronic files in the Employee's \\npossession and relating to the Employee's tenure with the Company (except property that belongs \\nto Company’s clients, which shoul d be returned directly to the respective Client to the extent \\npossible); \\n(ii) deliver and/or return to the Company all property of the Company in the Employee's possession \\nor control including, without limitation, cellular telephones, other telecommunications material, \\nkeys, modems, computers, identification badges or other equ ipment, company documents, CDs, \\nletters, notes, reports, business cards and other papers and electronic files in the Employee's \\npossession in connection with the Employee's engagement with the Company hereunder;  \\n(iii) delete any information relating to the Company from the Employee's personal computer, phone \\nand other devices; and (iv) provide reasonable assistance to the Company to ensure an orderly \\ntransition, including the handing over to the persons designated  by the Company, any documents \\nand all other matters that the Employee dealt with. \\n \\n \\n9- WAIVER AND RELEASE  \\n9.1 Without limiting or derogating from the foregoing, if the Employee's employment is terminated \\nby the Company without Cause (as defined herein), then the Company may, at its sole discretion, \\noffer the Employee severance benefits based entirely on its sole discretion. All severance benefits \\nare conditioned on the Employee's signing a full release of any and all claims against the Company \\nin a release form acceptable to the Company (within the period specified in it by the Company) and \\nthe Employee's not revoking such release pursuant to any revocation rights afforded by applicable \\nlaw. \\n \\n9.2 For purposes of this Section 9, the term “ Cause” shall mean (a) any material breach by the \\nEmployee of this Agreement or any other agreement to which the Employee and the Company are \\nboth parties, (b) any act (other than retirement) or omission to act by the Employee which may \\nhave a material and adver se effect on the Company’s business or on the Employee's ability to \\nperform services for the Company, including, without limitation, the commission of any crime (other \\nthan minor traffic violations), or (c) any material misconduct or material neglect of th e Employee's \\nduties in connection with the business or affairs of the Company. The Employee's employment shall \\nbe deemed to have been terminated for Cause if the Company determines within thirty (30) days \\nof the termination of employment (whether such term ination was voluntary or involuntary) that \\ntermination for Cause was warranted. \\n \\n \\n10- EMPLOYEE NDA \\n10.1 Attached hereto as Exhibit A is a copy of the Company’s Non -Disclosure and Assignment of \\nIntellectual Property Agreement (the “Employee Undertaking” ). This offer is conditioned on the \\nEmployee's signing the Employee Undertaking and the Employee's continuing willingness \\nthereafter to abide by its terms. The Employee is required to sign the Employee Undertaking when \\nhe/she countersigns this Agreement. For the sake of clarity, the terms and obligations as set forth \\nin the Employee Undertaking are incorporated herein by reference and such terms and obligations \\nshall survive termination of the Employee's employment, regardless of whether such termination is \\nwith, or without, cause. \\n \\n \\n11- PROOF OF RIGHT TO WORK\"), Document(metadata={'producer': 'Microsoft® Word for Microsoft 365', 'creator': 'Microsoft® Word for Microsoft 365', 'creationdate': '2025-08-15T18:16:29+03:00', 'author': 'carlos el badawi', 'moddate': '2025-08-15T18:16:29+03:00', 'source': 'US_Employment_Contract_Template.pdf', 'total_pages': 12, 'page': 5, 'page_label': '6'}, page_content=\"US Employment Agreement \\nTemplate \\n \\n  \\n 6 \\n11.1 The Immigration Reform and Control Act requires employers to verify the employment eligibility \\nand identity of new employees. Prior to commencing employment with the Company, the Employee \\nshall provide the Company with Form I -9 accurately completed to  evidence his/her eligibility for \\nemployment. The Company will not be able to employ the Employee if he/she fails to comply with \\nthat requirement. The Company reserves the right to perform standard background checks on all \\nemployees consistent with applicable laws. \\n \\n \\n12- MISCELLANEOUS \\n12.1 This Agreement, and Exhibits attached hereto, contain the entire understanding between the \\nEmployee and the Company with regard to the subject matter contained herein, and supersedes \\nall prior agreements, understandings, intents, promises or statement s, whether oral or written, \\nbetween the Employee and the Company or any related party regarding the offered terms of \\nemployment. \\n \\n12.2 The terms of the Employee's employment shall be governed by the laws of the state \\nof [INSERT EMPLOYEE STATE HERE] . Any controversy or claim arising out of, or relating to, this \\nAgreement or breach hereof shall be brought before courts having jurisdiction thereof.  \\n \\n12.3 The Employee acknowledges that the services he/she will render hereunder are unique and \\npersonal. Accordingly, the Employee may not assign any of his/her rights or delegate any of his/her \\nduties or obligations under this Agreement. The rights and obli gations of the Company under this \\nAgreement shall inure to the benefit of and be binding upon its successors and assigns.  \\n \\n12.4 Should any provision of this Agreement or any portion thereof, be found invalid and \\nunenforceable, the remaining provisions shall continue in full force and effect. Failure of either the \\nEmployee or the Company to enforce at any time any provision of this Agreement shall not be \\nconstrued to be a waiver of such provision, nor in any way affect the validity of this Agreement or \\nany part hereof or the right of either the Employee or the Company to enforce each and every such \\nprovision. No waiver of any br each of this Agreement shall be held to constitute a waiver of any \\nother or subsequent breach. This Agreement may be executed in one or more counterparts, each \\nof which shall be considered an original instrument, but all of which shall be considered one an d \\nthe same agreement, and shall be binding when one or more counterparts have been signed by \\neach of the parties and delivered to each of the parties. \\n \\n \\n13- ELECTRONIC SIGNATURES \\n13.1 Except where prohibited by law, the parties consent to use electronic signature service to \\nexecute this agreement and agree that such signatures are valid for proof and binding on the \\nparties. \\n \\nIn accepting this offer, the Employee gives the Company assurance that he/she has not relied on \\nany agreements or representations, express or implied, with respect to the Employee's employment \\nthat are not set forth expressly in this Agreement. \\n \\n \\nIN WITNESS WHEREOF the parties executed this agreement on [SIGNATURE DATE], in \\n[Employment state] United States. \\n \\n \\nName:  \\nEmployer signature: \\nEmployee name:\"), Document(metadata={'producer': 'Microsoft® Word for Microsoft 365', 'creator': 'Microsoft® Word for Microsoft 365', 'creationdate': '2025-08-15T18:16:29+03:00', 'author': 'carlos el badawi', 'moddate': '2025-08-15T18:16:29+03:00', 'source': 'US_Employment_Contract_Template.pdf', 'total_pages': 12, 'page': 6, 'page_label': '7'}, page_content='US Employment Agreement \\nTemplate \\n \\n  \\n 7 \\nEmployee signature: \\n \\n      \\n \\nEXHIBIT A \\n \\nEMPLOYEE UNDERTAKING \\n \\nIn consideration of my employment by the Company pursuant to the offer letter to which this \\nEmployee Undertaking is attached (the “Agreement”) and as a material condition of such \\nengagement and continuation of my engagement by the Company, I, the undersign ed, hereby \\nagree, effective as of the date on which I executed the Agreement (the “Effective Date”), as follows \\n(the “Undertaking”): \\n \\nAll terms not otherwise defined herein shall have the meanings ascribed to such terms in the \\nAgreement. \\n \\n \\nNote: ‘I’ is a reference to ‘the Employee’ \\n \\n \\n1. Confidentiality. \\nConfidentiality is fundamental to the Company’s clients and business. This clause is a fundamental \\nterm of this Agreement. The Employee understand that Confidentiality and any other information \\nrelated to the Company’s strategy, plan, business and organiza tion is a fundamental part of the \\nCompany’s power and leadership in the market and therefore this confidentiality clause is a \\nsubstantial part of the Employee’s obligations during and after the Employee’s engagement with \\nthe Company and the Company’s activity. \\n \\nExcept as required or authorised in the exercise of the Employee’s duties, they will not, during their \\nemployment or thereafter, without the Employer’s prior written consent or as otherwise required \\nby law disclose, directly or indirectly, to any person or  entity for any reason any Confidential \\nInformation; nor will the Employee during their employment or thereafter transmit, copy, remove or \\nattempt to use any part of the Company Confidential Information. \\n \\nFor the purposes of this Agreement Confidential Information means all client, prospective client \\nand Company, structure, organization, business, model of business, products, strategy, \\ndocuments, contracts, confidential or sensitive information disclosed to or learned by the Employee \\nin connection with their engagement with the Company or in the performance of the Employee’s \\nduties, including but not limited to information from the Company client databases, the Company \\nclients’ employee or payroll information, the Company business or marketing plans, any information \\nthat relates to the Company, the Company employee information, documents, contracts and \\nagreements or remuneration, price lists, rates, schedules, terms of business, market research, \\npresentations, capability statements, product specifications, financial and accounting information, \\ncontractor and supplier information, business policy and know -how, service and product concept \\nplans, designs, source code, databases, software, information relating to the Company intellectual \\nproperty rights or any other information disclosed to the Employee in a manner which a reasonable \\nperson would consider to be confidential. The terms of this Agreement and this Agreement itself \\nshall also be deemed Confidential Information and the obligations of this Clause shall apply. \\n \\nAny breach of this Clause by the Employee shall be considered a fundamental breach of this \\nAgreement which will entitle the Employer to among other things, terminate this Agreement with \\nimmediate effect with no notice or payment thereto required and the Em ployee agrees to fully'), Document(metadata={'producer': 'Microsoft® Word for Microsoft 365', 'creator': 'Microsoft® Word for Microsoft 365', 'creationdate': '2025-08-15T18:16:29+03:00', 'author': 'carlos el badawi', 'moddate': '2025-08-15T18:16:29+03:00', 'source': 'US_Employment_Contract_Template.pdf', 'total_pages': 12, 'page': 7, 'page_label': '8'}, page_content='US Employment Agreement \\nTemplate \\n \\n  \\n 8 \\nindemnify the Company for any damage sustained by it as a result of such breach. Notwithstanding \\nanything in this Agreement to the contrary, in the event of such fundamental breaches by the \\nEmployee, the Company shall have available against them every reme dy allowed under law and \\nequity, including but not limited to specific performance, suit for damages, and rescission.  \\n \\n \\n2. Work Product; Inventions \\nIf, at any time or times during my engagement by the Company, I shall (either alone or with others) \\nmake, conceive, create, discover, invent or reduce to practice any invention, modification, \\ndiscovery, design, development, improvement, process, software p rogram, work of authorship, \\ndocumentation, formula, data, technique, know -how, trade secret or intellectual property right \\nwhatsoever or any interest therein (whether or not patentable or registrable under copyright, \\ntrademark or similar statutes) that (a)  relates to the business of the Company or any customer, \\ncollaborator of or supplier to the Company, or any of the products or services being developed, \\nmanufactured or sold by the Company which may be used in relation therewith, (b) results from \\ntasks assigned to me by the Company or any of its customers or (c) results from the Confidential \\nInformation or use of facilities, premises or personal property (whether tangible or intangible) \\nowned, leased or contracted for by the Company and/or customer (“ Developments”), such \\nDevelopments and the benefits thereof are and shall immediately become the sole and absolute \\nproperty of the Company and its assigns, as works made for hire or otherwise, and I shall promptly \\ndisclose to the Company (or any persons designated by i t) each such Development. I hereby \\nacknowledge and agree that, as between me and the Company, the Company shall own, and I \\nhereby assign and, upon future creation, automatically assign to the Company, all right, title and \\ninterest, including, without limitation all Intellectual Property Rights, in and to any existing and future \\nDevelopments created on or after the Effective Date. For purposes of this Undertaking, “Intellectual \\nProperty Rights” are all:  \\n \\n(a) patents and associated reissues, divisions, renewals, extensions, provisionals, continuations \\nand continuations-in-part;  \\n(b) all inventions, whether patentable or not and whether or not reduced to practice;  \\n(c) registered and unregistered trademarks, service marks, certification marks, trade dress, logos, \\ntrade names, brand names, corporate names, business and product names, internet domain names, \\ninternet uniform resource locators, and internet protocol addresses and all goodwill associated with \\nthese rights;  \\n(d) Trade Secrets, industrial rights, industrial designs;  \\n(e) registered and unregistered works of authorship, copyrights, moral rights and publicity rights;  \\n(f) all rights to computer software, computer software source code, proprietary databases and \\nmask works and all documentation and developer tools associated with these;  \\n(g) proprietary rights that are similar in nature to those enumerated in (a) through (f) anywhere in \\nthe world; \\n(h) all enhancements and improvements to and all derivations of any of the rights enumerated in \\n(a) through (g);  \\nand (i) all applications, registrations and documentation associated with the rights described in (a) \\nthrough (g). \\n \\nI will, during my engagement by the Company and at any time thereafter, at the request of the \\nCompany, promptly sign, execute, make and do all such deeds, documents, acts and things as the \\nCompany and its duly authorized agents may reasonably require, in c onnection with the \\nDevelopments, to (i) apply for, obtain, register and vest in the name of the Company alone (unless \\nthe Company otherwise directs) all patents, copyrights, trademarks and other analogous \\nprotections in any country throughout the world, an d when so obtained or vested to renew and \\nrestore the same; and (ii) to defend any judicial, opposition or other proceedings in respect of such'), Document(metadata={'producer': 'Microsoft® Word for Microsoft 365', 'creator': 'Microsoft® Word for Microsoft 365', 'creationdate': '2025-08-15T18:16:29+03:00', 'author': 'carlos el badawi', 'moddate': '2025-08-15T18:16:29+03:00', 'source': 'US_Employment_Contract_Template.pdf', 'total_pages': 12, 'page': 8, 'page_label': '9'}, page_content='US Employment Agreement \\nTemplate \\n \\n  \\n 9 \\napplications, and any judicial, opposition or other proceedings or petitions or applications for \\nrevocation of such patents, copyrights, trademarks or other analogous protections.  \\n \\nI hereby irrevocably designate and appoint the Company and its duly authorized officers and \\nagents as my agent and attorney -in-fact, to act for and in my behalf and stead, in the event the \\nCompany is unable, after reasonable effort, to secure my signature on any application for patents, \\ncopyright or trademark registration or other documents regarding any legal protection relating to \\nany Developments, whether because of my physical or mental incapacity or for any other reason \\nwhatsoever, to execute and file any such application or applications or other documents, and to do \\nall other lawfully permitted acts to further the prosecution and issuance of patents, copyright or \\ntrademark registrations or any other legal protections thereon with the same legal force and effect \\nas if executed by me. \\n \\nONLY FOR EMPLOYEES IN CALIFORNIA Subject to the requirement of applicable law, if any, I \\nunderstand that the Company Invention will not include, and provisions of this Agreement requiring \\nassignment of inventions to the company do not apply, any invention that qualifies fully for \\nexclusion under the provision of applicable state law, if any, attached heater as Exhibit B. In order \\nto assist in the determination of which invention qualify for such exclusion, I will advise the \\nCompany promptly in writing, during and for a period of twelve (12) month immediately following \\nthe termination of the relationship, of all Invention s solely or jointly conceived or developed to \\nreduced to practice by me during the period of the Relationship. \\n \\n \\n \\n3. Non-Disparagement.  \\nThe Employee agrees that at all times during their employment under this Agreement and following \\nits termination they will not make, cause to be made or assist or cooperate in the making of, any \\noral or written statement to any person, entity or association: \\n \\na) Criticising or disparaging the Company and/or its associated companies, or any of their \\ndirectors, management team or employees; \\nb) Commenting unfavourably or falsely on the character, business judgement, business \\npractices, financial condition or business reputation of the Company and/or its associated \\ncompanies, or any of their directors, management team or employees; or  \\nc) Criticising, disparaging or otherwise detrimentally commenting on the products, services or \\nprograms provided by, or to be provided by the Company and/or its associated companies.  \\n \\n3.1 The Employee agrees that at all times during their employment under this Agreement and \\nfollowing its termination, except with the expressed authorization of the Company, they shall not \\ndiscuss any matter, divulge any information or provide any comment relating to the Company to \\nany representative of the press or broadcasting or other media. \\n  \\n3.2 The Employee’s obligations in this Clause also apply to the posting of any comment or \\nstatement on the internet or any other media at large, including but not limited to social media \\nplatforms. \\n  \\n3.3 18 U.S.C. § 1833(b) provides: “An individual shall not be held criminally or civilly liable under any \\nFederal or State trade secret law for the disclosure of a trade secret that —(A) is made —(i) in \\nconfidence to a Federal, State, or local government off icial, either directly or indirectly, or to an \\nattorney; and (ii) solely for the purpose of reporting or investigating a suspected violation of law; \\nor (B) is made in a complaint or other document filed in a lawsuit or other proceeding, if such filing \\nis made under seal.” Nothing in this agreement is intended to conflict with 18 U.S.C. § 1833(b) or \\ncreate liability for disclosures of trade secrets that are expressly allowed by 18 U.S.C. § 1833(b).'), Document(metadata={'producer': 'Microsoft® Word for Microsoft 365', 'creator': 'Microsoft® Word for Microsoft 365', 'creationdate': '2025-08-15T18:16:29+03:00', 'author': 'carlos el badawi', 'moddate': '2025-08-15T18:16:29+03:00', 'source': 'US_Employment_Contract_Template.pdf', 'total_pages': 12, 'page': 9, 'page_label': '10'}, page_content='US Employment Agreement \\nTemplate \\n \\n  \\n 10 \\n \\nAccordingly, notwithstanding the above confidentiality and non -disparagement provisions, \\nEmployee has the right to disclose in confidence trade secrets to federal, state, and local \\ngovernment officials, or to an attorney, for the sole purpose of reporting or investigating a \\nsuspected violation of law. Employee also has the right to disclose trade secrets in a document \\nfiled in a lawsuit or other proceeding, but only if the filing is made under seal and protected from \\npublic disclosure or to the extent permitted under applicable law. \\n \\nFurthermore, nothing in this agreement limits Employee’s right to testify in an administrative, \\nlegislative, or judicial proceeding about alleged criminal conduct or alleged discriminatory or \\nharassing conduct or make truthful disclosure or factual informa tion related to claim(s) of \\nharassment or other discriminatory or related retaliation. Employee shall direct any inquiries (i.e. \\nconfirmation of full name, job title, and employment) by future potential employers or opportunities \\nto the Employer’s human re sources department. Furthermore, nothing in this agreement limits \\nEmployee’s ability to participate in or otherwise engage in protected activity or asserting protected \\nrights under applicable law, including but not limited to those provided for under Secti on 7s & \\n8(a)(1) of the National Labor Relations Act (the Act), filing a Unfair Labor Practice charge, assisting \\nothers in doing so, or otherwise cooperating with the National Labor Relations Board’s investigative \\nprocess. \\n \\nAdditionally, nothing in this agreement prevents you from discussing or disclosing information \\nabout unlawful acts in the workplace, such as harassment or discrimination or any other conduct \\nthat you have reason to believe is unlawful. \\n \\n \\n4. Miscellaneous. \\n(a) I agree that any breach of this Undertaking by me will cause irreparable damage to the \\nCompany, and that in the event of such breach the Company shall have, in addition to any and all \\nremedies at law, the right to an injunction, specific performance or other equitable relief to prevent \\nthe violation of my obligations hereunder, without having to post bond, together with an award of \\nits attorney’s fees incurred in securing such relief. \\n \\n(b) I understand that this Undertaking does not create an obligation on the part of the Company or \\nany other person or entity to continue my engagement by the Company.  \\n \\n(c) I represent that the Developments identified below, if any, comprise all of the unpatented and \\nunregistered copyrightable Developments which I have made, conceived or created prior to my \\nengagement by the Company, which Developments are excluded from t his Undertaking (if \\napplicable): \\n \\n1. \\n2. \\n3. \\n \\nI understand that it is only necessary to list the title and purpose of such Developments but not any \\ndetails thereof; and, if no Developments are listed above, I represent that there are no such \\nDevelopments to be excluded from this Undertaking. I further represent that my performance of all \\nof the terms of this Undertaking and as an employee of the Company does not and will not breach \\nany other agreement, including without limitation an agreement to keep in confidence proprietary \\ninformation of others acq uired by me prior to my engagement by the Company, nor will my \\nperformance of the terms of this Undertaking violate any agreement not to compete. I have not \\nentered into, and I agree I will not enter into, any agreement, either written or oral, in conflict  \\nherewith.'), Document(metadata={'producer': 'Microsoft® Word for Microsoft 365', 'creator': 'Microsoft® Word for Microsoft 365', 'creationdate': '2025-08-15T18:16:29+03:00', 'author': 'carlos el badawi', 'moddate': '2025-08-15T18:16:29+03:00', 'source': 'US_Employment_Contract_Template.pdf', 'total_pages': 12, 'page': 10, 'page_label': '11'}, page_content='US Employment Agreement \\nTemplate \\n \\n  \\n 11 \\n \\n(d) Any waiver by the Company of a breach of any provision of this Undertaking shall not operate \\nor be construed as a waiver of any other provision of this Undertaking, and shall not operate or be \\nconstrued as a waiver of any subsequent breach of such provision or any other provision hereof \\n \\n(e) It is agreed that the periods of post-engagement restriction set forth in Sections 3 and 4 of this \\nUndertaking shall be tolled, and shall not run, during any period of time in which I am in violation of \\nthe terms hereof, in order that the Company shall have all of the agreed-upon temporal protections \\nrecited herein. \\n \\n(f) I hereby agree that each provision herein shall be treated as a separate and independent clause, \\nand the unenforceability of any one clause shall in no way impair the enforceability of any of the \\nother clauses herein. I further agree that no breach of any provision of this Undertaking by the \\nCompany, or any other claimed breach of contract or violation of law, shall operate to excuse my \\nobligation to fulfill the requirements of Sections 3 and 6 hereof. In signing this agreement, I give \\nthe Company assurance that I have carefully read and considered all the terms and conditions of \\nthis agreement, including the restraints imposed on me under Sections 3 and 6. I agree that these \\nrestraints are necessary for the reasonable and proper protection of the Compan y and that each \\nand every one of the restraints is reasonable in respect to subject matter, length of time and \\ngeographic area. Moreover, if one or more of the provisions contained in this Undertaking shall for \\nany reason be held to be excessively broad as  to scope, time period, geographic scope, activity, \\nsubject or otherwise so as to be unenforceable at law, such provisions shall be construed by the \\nappropriate judicial body by limiting or reducing it or them, so as to be enforceable to the maximum \\nextent compatible with the applicable law as it shall then appear. I acknowledge and agree that I \\ndo not rely, and have not relied, on any representation or statement made by the Company with \\nregard to the subject matter, basis or effect of this Undertaking, other than those contained in this \\nagreement. \\n \\n(g) My obligations under this Undertaking shall survive the termination of my engagement by the \\nCompany, regardless of the reason for such termination, and shall be binding upon my heirs, \\nexecutors, administrators and legal representatives. It is further agreed that no changes to the \\nnature or scope of my relationship with the Company shall operate to extinguish my obligations \\nhereunder or require that this Undertaking be re-executed. \\n \\n(h) The term “Company” means the Employer, and, for purposes of this Undertaking, shall also \\nmean and include its parent, subsidiaries, subdivisions or affiliates. The Company shall have the \\nright to assign this Undertaking to its successors and assigns, a nd all covenants and agreements \\nhereunder shall inure to the benefit of and be enforceable by said successors or assigns. I \\nacknowledge that I do not have any right to assign any portion of this agreement.  \\n \\n(i) This Undertaking shall be governed by and construed in accordance with the laws \\nof [EMPLOYMENT STATE] without regard to its conflict of law provisions. Any disputes relating to \\nor arising out of this Undertaking shall be resolved in the state and/or federal courts of \\n[EMPLOYMENT STATE] to whose exclusive jurisdiction I hereby assent. \\n \\n(j) This Undertaking, together with any attachments hereto, constitutes the entire agreement \\nbetween the Company and me with respect to the subject matter hereof, and supersedes all prior \\ndiscussions, promises, negotiations and agreements (whether written or oral). This Undertaking \\nmay be amended or modified only by a written agreement executed by the Company and me.  \\n \\n \\n[ONLY FOR EMPLOYEES IN CALIFORNIA]'), Document(metadata={'producer': 'Microsoft® Word for Microsoft 365', 'creator': 'Microsoft® Word for Microsoft 365', 'creationdate': '2025-08-15T18:16:29+03:00', 'author': 'carlos el badawi', 'moddate': '2025-08-15T18:16:29+03:00', 'source': 'US_Employment_Contract_Template.pdf', 'total_pages': 12, 'page': 11, 'page_label': '12'}, page_content='US Employment Agreement \\nTemplate \\n \\n  \\n 12 \\nEXHIBIT B  \\n \\nSection 2870 of the California Labor Code is as follows: \\n \\n(a) Any provision in an employment agreement which provides that an employee shall assign, or \\noffer to assign, any of his or her rights in an invention to his or her employer shall not apply to an \\ninvention that the employee developed entirely on his or her own time without using the employer’s \\nequipment, supplies, facilities, or trade secret information except for those inventions that either:  \\n \\n(1) Relate at the time of conception or reduction to practice of the invention to the employer’s \\nbusiness, or actual or demonstrably anticipated research or development of the employer; or  \\n(2) Result from any work performed by the employee for the employer. \\n \\n(b) To the extent a provision in an employment agreement purports to require an employee to \\nassign an invention otherwise excluded from being required to be assigned under subdivision (a), \\nthe provision is against the public policy of this state and is unenforceable. \\n \\n \\n \\nIN WITNESS WHEREOF the parties executed this agreement [SIGN DATE], [EMPLOYMENT \\nSTATE] United States. \\n \\n \\nCompany signature                                                                                                                                        \\n_______________________ \\nName: \\nDate:              \\nEmployee signature \\n_______________________    \\nName: \\nDate:')]\n"
     ]
    }
   ],
   "source": [
    "from langchain.document_loaders import PyPDFLoader\n",
    "# Ensure the PyPDFLoader is imported correctly\n",
    "assert PyPDFLoader is not None\n",
    "\n",
    "\n",
    "# Load the PDF file\n",
    "loader = PyPDFLoader(\"US_Employment_Contract_Template.pdf\")\n",
    "docs = loader.load()\n",
    "\n",
    "print(docs)"
   ]
  },
  {
   "cell_type": "code",
   "execution_count": 62,
   "id": "14e58d8c",
   "metadata": {},
   "outputs": [],
   "source": [
    "from typing import List\n",
    "from sentence_transformers import SentenceTransformer, util\n",
    "from nltk.tokenize import sent_tokenize\n",
    "from langchain.schema import Document\n",
    "\n",
    "def semantic_chunker(text: str, similarity_threshold: float = 0.85) -> List[Document]: \n",
    "    # Tokenize text into sentences\n",
    "    sentences = sent_tokenize(text)\n",
    "    \n",
    "    # Load pre-trained embedding model\n",
    "    model = SentenceTransformer('multi-qa-mpnet-base-dot-v1')\n",
    "    \n",
    "    # Encode sentences into embeddings\n",
    "    embeddings = model.encode(sentences, convert_to_tensor=True)\n",
    "    \n",
    "    chunks = []\n",
    "    current_chunk = [sentences[0]]\n",
    "    \n",
    "    # Compare sentence similarity to decide chunk boundaries\n",
    "    for i in range(1, len(sentences)):\n",
    "        similarity = util.pytorch_cos_sim(embeddings[i - 1], embeddings[i]).item()\n",
    "        if similarity > similarity_threshold:\n",
    "            current_chunk.append(sentences[i])\n",
    "        else:\n",
    "            chunks.append(' '.join(current_chunk))\n",
    "            current_chunk = [sentences[i]]\n",
    "    \n",
    "    # Add the last chunk\n",
    "    if current_chunk:\n",
    "        chunks.append(' '.join(current_chunk))\n",
    "    \n",
    "  \n",
    "    return [Document(page_content=chunk) for chunk in chunks]\n"
   ]
  },
  {
   "cell_type": "code",
   "execution_count": 63,
   "id": "17e21ff6",
   "metadata": {},
   "outputs": [
    {
     "data": {
      "text/plain": [
       "135"
      ]
     },
     "execution_count": 63,
     "metadata": {},
     "output_type": "execute_result"
    }
   ],
   "source": [
    "full_text = \" \".join([doc.page_content for doc in docs])\n",
    "chunks = semantic_chunker(full_text)\n",
    "len(chunks)\n"
   ]
  },
  {
   "cell_type": "markdown",
   "id": "b5e51f4a",
   "metadata": {},
   "source": [
    "# Step 2: Embed and Index with FAISS"
   ]
  },
  {
   "cell_type": "code",
   "execution_count": 64,
   "id": "5a1b8e6d",
   "metadata": {},
   "outputs": [],
   "source": [
    "from langchain.embeddings import HuggingFaceEmbeddings\n",
    "from langchain.vectorstores import FAISS\n",
    "from langchain.schema import Document\n",
    "# from langchain_huggingface import HuggingFaceEmbeddings\n",
    "\n",
    "\n",
    "\n",
    "embedding_model = HuggingFaceEmbeddings(model_name=\"multi-qa-mpnet-base-dot-v1\")\n",
    "db = FAISS.from_documents(chunks, embedding_model)\n",
    "\n",
    "# Save index locally\n",
    "db.save_local(\"faiss_index_google\")"
   ]
  },
  {
   "cell_type": "markdown",
   "id": "d4e4444f",
   "metadata": {},
   "source": [
    "# Step 3: User Query and Retrieval"
   ]
  },
  {
   "cell_type": "code",
   "execution_count": 65,
   "id": "bb0cee32",
   "metadata": {},
   "outputs": [
    {
     "name": "stdout",
     "output_type": "stream",
     "text": [
      "\n",
      "\n",
      "DOC: [0] Non-Disparagement....\n",
      "\n",
      "\n",
      "DOC: [1] US Employment Contract Template \n",
      " \n",
      " \n",
      "How to use this template \n",
      "This is a customizable document creat...\n",
      "\n",
      "\n",
      "DOC: [2] 3.3 18 U.S.C....\n"
     ]
    }
   ],
   "source": [
    "retriever = db.as_retriever(\n",
    "  search_type=\"mmr\",\n",
    "  search_kwargs={'k': 3} \n",
    ")\n",
    "\n",
    "query = \"What are embeddings?\"\n",
    "retrieved_docs = retriever.get_relevant_documents(query)\n",
    "\n",
    "for i, doc in enumerate(retrieved_docs):\n",
    "    print(f\"\\n\\nDOC: [{i}] {doc.page_content[:100]}...\")"
   ]
  },
  {
   "cell_type": "markdown",
   "id": "e932dbc6",
   "metadata": {},
   "source": [
    "# Step 4: Prompt and Generate Response"
   ]
  },
  {
   "cell_type": "markdown",
   "id": "4759b2a7",
   "metadata": {},
   "source": [
    "## Prompt Construction"
   ]
  },
  {
   "cell_type": "code",
   "execution_count": 66,
   "id": "8e2f3c98",
   "metadata": {},
   "outputs": [],
   "source": [
    "context = \"\\n\\n\".join([doc.page_content for doc in retrieved_docs])\n",
    "prompt = f\"\"\"Use the following context to answer the question.\n",
    "\n",
    "Context:\n",
    "{context}\n",
    "\n",
    "Question: {query}\n",
    "Answer:\"\"\""
   ]
  },
  {
   "cell_type": "code",
   "execution_count": 67,
   "id": "7eb72e73",
   "metadata": {},
   "outputs": [
    {
     "name": "stdout",
     "output_type": "stream",
     "text": [
      "Use the following context to answer the question.\n",
      "\n",
      "Context:\n",
      "Non-Disparagement.\n",
      "\n",
      "US Employment Contract Template \n",
      " \n",
      " \n",
      "How to use this template \n",
      "This is a customizable document created to help companies solidify the terms and conditions of \n",
      "employment between employee and employer by defining the responsibilities and obligations of \n",
      "the working relationship.\n",
      "\n",
      "3.3 18 U.S.C.\n",
      "\n",
      "Question: What are embeddings?\n",
      "Answer:\n"
     ]
    }
   ],
   "source": [
    "print(prompt)"
   ]
  },
  {
   "cell_type": "code",
   "execution_count": null,
   "id": "fbcead79",
   "metadata": {},
   "outputs": [
    {
     "name": "stdout",
     "output_type": "stream",
     "text": [
      "According to Exhibit B, specifically Section 2870(a) of the California Labor Code, an invention is excluded from assignment to the employer if the employee developed it entirely on their own time without using the employer’s equipment, supplies, facilities, or trade secret information, AND the invention does not:\n",
      "(1) Relate at the time of conception or reduction to practice to the employer’s business, or actual or demonstrably anticipated research or development of the employer; or\n",
      "(2) Result from any work performed by the employee for the employer.\n"
     ]
    }
   ],
   "source": [
    "from google import genai\n",
    "\n",
    "client = genai.Client(api_key=GOOGLE_API_KEY)\n",
    "\n",
    "response = client.models.generate_content(\n",
    "    model=\"gemini-2.5-flash\", contents=prompt\n",
    ")\n",
    "print(response.text)"
   ]
  },
  {
   "cell_type": "code",
   "execution_count": 72,
   "id": "1190c594",
   "metadata": {},
   "outputs": [],
   "source": [
    "prompts = [\n",
    "    # --- Fact-based prompts ---\n",
    "    {\n",
    "        \"query\": \"What is the employment type mentioned in the contract template?\",\n",
    "        \"expected_output\": \"Employment can be Salary or Hourly, as specified in Point 7 of the Table.\"\n",
    "    },\n",
    "    {\n",
    "        \"query\": \"What does the agreement state about the employment relationship being 'at will'?\",\n",
    "        \"expected_output\": \"The employment is at will, meaning either the employee or the company may terminate the employment at any time, for any reason or no reason.\"\n",
    "    },\n",
    "    {\n",
    "        \"query\": \"How many days of Paid Time Off (PTO) are granted per year in the contract?\",\n",
    "        \"expected_output\": \"The number of PTO days is customizable and specified in Point 9 of the Table (e.g., '[INSERT NUMBER OF DAYS] days of Paid Time Off per year').\"\n",
    "    },\n",
    "    {\n",
    "        \"query\": \"What are the company’s policies regarding unused PTO days?\",\n",
    "        \"expected_output\": \"Unused PTO is not paid out and does not roll over to the next year unless required by law.\"\n",
    "    },\n",
    "    {\n",
    "        \"query\": \"Under what conditions may an employee receive a discretionary bonus?\",\n",
    "        \"expected_output\": \"At the sole discretion of the company, based on the employee’s performance and the company’s performance.\"\n",
    "    },\n",
    "    {\n",
    "        \"query\": \"What does the agreement require employees to provide before commencing employment under U.S. law?\",\n",
    "        \"expected_output\": \"Employees must provide a completed Form I-9 to verify their employment eligibility and identity.\"\n",
    "    },\n",
    "    {\n",
    "        \"query\": \"What must the employee return to the company upon termination of employment?\",\n",
    "        \"expected_output\": \"All company property, including phones, computers, keys, documents, reports, business cards, electronic files, and other equipment.\"\n",
    "    },\n",
    "    {\n",
    "        \"query\": \"What are the main obligations under the confidentiality clause in Exhibit A?\",\n",
    "        \"expected_output\": \"The employee must not disclose, copy, remove, or use company confidential information during or after employment without prior written consent.\"\n",
    "    },\n",
    "    {\n",
    "        \"query\": \"According to Exhibit B, under California law, which inventions are excluded from assignment to the employer?\",\n",
    "        \"expected_output\": \"Inventions developed entirely on the employee’s own time without using the employer’s resources, unless they relate to the employer’s business or result from work performed for the employer.\"\n",
    "    },\n",
    "    {\n",
    "        \"query\": \"What law governs the terms of the employment agreement?\",\n",
    "        \"expected_output\": \"The agreement is governed by the laws of the state specified in the contract (placeholder: '[INSERT EMPLOYEE STATE HERE]').\"\n",
    "    },\n",
    "\n",
    "    # --- Reasoning-style prompts ---\n",
    "    {\n",
    "        \"query\": \"If an employee works full-time but wants to take vacation, how is this covered in the contract?\",\n",
    "        \"expected_output\": \"Vacation is covered under Paid Time Off (PTO), which is available to full-time employees and can be used for vacation, personal time, or sick leave as specified in Point 9 of the Table.\"\n",
    "    },\n",
    "    {\n",
    "        \"query\": \"If an employee is terminated without cause, what benefits might the company offer?\",\n",
    "        \"expected_output\": \"The company may, at its sole discretion, offer severance benefits. These are conditional on the employee signing a full release of claims against the company and not revoking the release.\"\n",
    "    },\n",
    "    {\n",
    "        \"query\": \"What are the employee’s obligations regarding inventions created during their employment?\",\n",
    "        \"expected_output\": \"Any invention or development related to the company’s business, created during employment or using company resources, is automatically assigned to the company. Employees must also assist with securing intellectual property rights for such inventions.\"\n",
    "    },\n",
    "    {\n",
    "        \"query\": \"How does the contract address confidentiality and non-disparagement together?\",\n",
    "        \"expected_output\": \"The confidentiality clause prohibits disclosure or misuse of company information, while the non-disparagement clause prohibits criticizing the company or its employees during or after employment. Both obligations survive termination of employment.\"\n",
    "    },\n",
    "    {\n",
    "        \"query\": \"What happens if a clause in the contract is found invalid?\",\n",
    "        \"expected_output\": \"The remaining provisions continue in full force and effect. Invalidity of one clause does not affect the validity or enforceability of the rest of the agreement.\"\n",
    "    }\n",
    "]\n"
   ]
  },
  {
   "cell_type": "code",
   "execution_count": null,
   "id": "4022103a",
   "metadata": {},
   "outputs": [
    {
     "name": "stdout",
     "output_type": "stream",
     "text": [
      "Prompt: What is the employment type mentioned in the contract template?\n",
      "Semantic Score: 0.81\n",
      "Generated Answer: The employment type is specified in Point 8 of the Table.\n",
      "\n",
      "Expected Answer: Employment can be Salary or Hourly, as specified in Point 7 of the Table.\n",
      "--------------------------------------------------------------------------------\n",
      "Prompt: What does the agreement state about the employment relationship being 'at will'?\n",
      "Semantic Score: 0.82\n",
      "Generated Answer: The Employee's employment will, at all times, remain “at will” employment.\n",
      "\n",
      "Expected Answer: The employment is at will, meaning either the employee or the company may terminate the employment at any time, for any reason or no reason.\n",
      "--------------------------------------------------------------------------------\n",
      "Prompt: How many days of Paid Time Off (PTO) are granted per year in the contract?\n",
      "Semantic Score: 0.89\n",
      "Generated Answer: The document states the number of days of Paid Time Off (\"PTO\") per year is set forth in Point 9 of the Table.\n",
      "\n",
      "Expected Answer: The number of PTO days is customizable and specified in Point 9 of the Table (e.g., '[INSERT NUMBER OF DAYS] days of Paid Time Off per year').\n",
      "--------------------------------------------------------------------------------\n",
      "Prompt: What are the company’s policies regarding unused PTO days?\n",
      "Semantic Score: 0.66\n",
      "Generated Answer: Employees are not paid out for accrued, unused Paid Time Off and Paid Time Off and it does not roll over from year to year.\n",
      "\n",
      "Expected Answer: Unused PTO is not paid out and does not roll over to the next year unless required by law.\n",
      "--------------------------------------------------------------------------------\n",
      "Prompt: Under what conditions may an employee receive a discretionary bonus?\n",
      "Semantic Score: 0.64\n",
      "Generated Answer: At the Company’s sole discretion, the Employee may receive a variable compensation.\n",
      "\n",
      "Expected Answer: At the sole discretion of the company, based on the employee’s performance and the company’s performance.\n",
      "--------------------------------------------------------------------------------\n",
      "Prompt: What does the agreement require employees to provide before commencing employment under U.S. law?\n",
      "Semantic Score: 0.51\n",
      "Generated Answer: The employee confirms that they are under no contractual or other legal obligations that would prohibit or restrict them from fully entering into the agreement, performing their obligations, and that they have no current or potential conflict of interest relating to their employment with the Company and performance of their duties.\n",
      "\n",
      "Expected Answer: Employees must provide a completed Form I-9 to verify their employment eligibility and identity.\n",
      "--------------------------------------------------------------------------------\n",
      "Prompt: What must the employee return to the company upon termination of employment?\n",
      "Semantic Score: 0.79\n",
      "Generated Answer: The employee must return to the company all property of the Company in the Employee's possession or control including, without limitation, cellular telephones, other telecommunications material, keys, modems, computers, identification badges or other equipment, company documents, CDs, letters, notes, reports, business cards and other papers and electronic files in the Employee's possession and relating to the Employee's tenure with the Company (except property that belongs to Company’s clients, which should be returned directly to the respective Client to the extent possible).\n",
      "\n",
      "Expected Answer: All company property, including phones, computers, keys, documents, reports, business cards, electronic files, and other equipment.\n",
      "--------------------------------------------------------------------------------\n",
      "Prompt: What are the main obligations under the confidentiality clause in Exhibit A?\n",
      "Semantic Score: 0.29\n",
      "Generated Answer: I am sorry, but I do not have enough information to answer your question.\n",
      "\n",
      "Expected Answer: The employee must not disclose, copy, remove, or use company confidential information during or after employment without prior written consent.\n",
      "--------------------------------------------------------------------------------\n",
      "Prompt: According to Exhibit B, under California law, which inventions are excluded from assignment to the employer?\n",
      "Semantic Score: 0.73\n",
      "Generated Answer: According to Exhibit B, under California law, an invention is excluded from assignment to the employer if the employee developed it entirely on their own time without using the employer’s equipment, supplies, facilities, or trade secret information, except for inventions that either:\n",
      "\n",
      "1.  Relate at the time of conception or reduction to practice of the invention to the employer’s business, or actual or demonstrably anticipated research or development of the employer; or\n",
      "2.  Result from any work performed by the employee for the employer.\n",
      "\n",
      "Expected Answer: Inventions developed entirely on the employee’s own time without using the employer’s resources, unless they relate to the employer’s business or result from work performed for the employer.\n",
      "--------------------------------------------------------------------------------\n",
      "Prompt: What law governs the terms of the employment agreement?\n",
      "Semantic Score: 0.87\n",
      "Generated Answer: The laws of the state of [INSERT EMPLOYEE STATE HERE] govern the terms of the employment agreement.\n",
      "\n",
      "Expected Answer: The agreement is governed by the laws of the state specified in the contract (placeholder: '[INSERT EMPLOYEE STATE HERE]').\n",
      "--------------------------------------------------------------------------------\n",
      "Prompt: If an employee works full-time but wants to take vacation, how is this covered in the contract?\n",
      "Semantic Score: 0.80\n",
      "Generated Answer: The Employee may use the PTO for vacation.\n",
      "\n",
      "Expected Answer: Vacation is covered under Paid Time Off (PTO), which is available to full-time employees and can be used for vacation, personal time, or sick leave as specified in Point 9 of the Table.\n",
      "--------------------------------------------------------------------------------\n",
      "Prompt: If an employee is terminated without cause, what benefits might the company offer?\n",
      "Semantic Score: 0.83\n",
      "Generated Answer: The company may, at its sole discretion, offer the Employee severance benefits if the Employee's employment is terminated by the Company without Cause.\n",
      "\n",
      "Expected Answer: The company may, at its sole discretion, offer severance benefits. These are conditional on the employee signing a full release of claims against the company and not revoking the release.\n",
      "--------------------------------------------------------------------------------\n",
      "Prompt: What are the employee’s obligations regarding inventions created during their employment?\n",
      "Semantic Score: 0.75\n",
      "Generated Answer: An employee's obligation regarding inventions is that any provision in an employment agreement that requires the employee to assign rights to an invention to the employer does not apply to inventions developed entirely on the employee's own time without using the employer’s resources (equipment, supplies, facilities, or trade secret information). This exception does not apply to inventions that relate to the employer’s business or result from any work performed by the employee for the employer.\n",
      "\n",
      "Expected Answer: Any invention or development related to the company’s business, created during employment or using company resources, is automatically assigned to the company. Employees must also assist with securing intellectual property rights for such inventions.\n",
      "--------------------------------------------------------------------------------\n",
      "Prompt: How does the contract address confidentiality and non-disparagement together?\n",
      "Semantic Score: 0.60\n",
      "Generated Answer: The terms of the agreement and the agreement itself shall be deemed Confidential Information and the obligations of the Confidentiality Clause shall apply.\n",
      "\n",
      "Expected Answer: The confidentiality clause prohibits disclosure or misuse of company information, while the non-disparagement clause prohibits criticizing the company or its employees during or after employment. Both obligations survive termination of employment.\n",
      "--------------------------------------------------------------------------------\n",
      "Prompt: What happens if a clause in the contract is found invalid?\n",
      "Semantic Score: 0.81\n",
      "Generated Answer: The remaining provisions shall continue in full force and effect.\n",
      "\n",
      "Expected Answer: The remaining provisions continue in full force and effect. Invalidity of one clause does not affect the validity or enforceability of the rest of the agreement.\n",
      "--------------------------------------------------------------------------------\n",
      "Average Semantic Similarity: 0.72\n"
     ]
    }
   ],
   "source": [
    "\n",
    "import torch\n",
    "\n",
    "embed_model = SentenceTransformer(\"multi-qa-mpnet-base-dot-v1\")\n",
    "\n",
    "def semantic_score(expected, generated):\n",
    "    emb1 = embed_model.encode(expected, convert_to_tensor=True)\n",
    "    emb2 = embed_model.encode(generated, convert_to_tensor=True)\n",
    "    return float(util.pytorch_cos_sim(emb1, emb2))\n",
    "\n",
    "\n",
    "\n",
    "results = []\n",
    "\n",
    "for case in prompts:\n",
    "    retrieved_docs = retriever.get_relevant_documents(case[\"query\"])\n",
    "    context = \"\\n\\n\".join([doc.page_content for doc in retrieved_docs])\n",
    "    prompt = f\"\"\"Use the following context to answer the question, do not include any personal opinions or information, answer ONLY based on the context provided. If no context is available tell the user you don't know.\n",
    "    If there are [] in the document especially if they are highlighted and in bold, consider them as filler for dates or numbers or names.\n",
    "\n",
    "    Context:\n",
    "    {context}\n",
    "\n",
    "    Question: {case[\"query\"]}\n",
    "    Answer:\"\"\"\n",
    "\n",
    "    response = client.models.generate_content(\n",
    "        model=\"gemini-2.0-flash-lite\",\n",
    "        contents=prompt\n",
    "    )\n",
    "    generated = response.text\n",
    "\n",
    "    score = semantic_score(case[\"expected_output\"], generated)\n",
    "    \n",
    "    results.append({\n",
    "        \"prompt\": case[\"query\"],\n",
    "        \"expected\": case[\"expected_output\"],\n",
    "        \"generated\": generated,\n",
    "        \"semantic_score\": score\n",
    "    })\n",
    "    \n",
    "   \n",
    "    print(f\"Prompt: {case['query']}\")\n",
    "    print(f\"Semantic Score: {score:.2f}\")\n",
    "    print(f\"Generated Answer: {generated}\")\n",
    "    print(f\"Expected Answer: {case['expected_output']}\")\n",
    "    print(\"-\" * 80)\n",
    "\n",
    "\n",
    "avg_semantic_score = sum(r[\"semantic_score\"] for r in results) / len(results)\n",
    "print(f\"Average Semantic Similarity: {avg_semantic_score:.2f}\")"
   ]
  }
 ],
 "metadata": {
  "kernelspec": {
   "display_name": ".venv",
   "language": "python",
   "name": "python3"
  },
  "language_info": {
   "codemirror_mode": {
    "name": "ipython",
    "version": 3
   },
   "file_extension": ".py",
   "mimetype": "text/x-python",
   "name": "python",
   "nbconvert_exporter": "python",
   "pygments_lexer": "ipython3",
   "version": "3.10.11"
  }
 },
 "nbformat": 4,
 "nbformat_minor": 5
}
